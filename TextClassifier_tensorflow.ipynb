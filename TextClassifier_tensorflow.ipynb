{
 "cells": [
  {
   "cell_type": "code",
   "execution_count": 1,
   "id": "47bb8228-06a2-4a88-ae67-c2bd486d4b0c",
   "metadata": {},
   "outputs": [
    {
     "name": "stdout",
     "output_type": "stream",
     "text": [
      "Package                      Version\n",
      "---------------------------- -----------\n",
      "absl-py                      2.3.1\n",
      "asttokens                    3.0.0\n",
      "astunparse                   1.6.3\n",
      "attrs                        25.3.0\n",
      "cachetools                   5.5.2\n",
      "certifi                      2025.8.3\n",
      "charset-normalizer           3.4.2\n",
      "colorama                     0.4.6\n",
      "comm                         0.2.3\n",
      "debugpy                      1.8.15\n",
      "decorator                    5.2.1\n",
      "dm-tree                      0.1.9\n",
      "docstring_parser             0.17.0\n",
      "einops                       0.8.1\n",
      "etils                        1.13.0\n",
      "exceptiongroup               1.3.0\n",
      "executing                    2.2.0\n",
      "flatbuffers                  25.2.10\n",
      "fsspec                       2025.7.0\n",
      "gast                         0.6.0\n",
      "google-auth                  2.40.3\n",
      "google-auth-oauthlib         1.2.2\n",
      "google-pasta                 0.2.0\n",
      "grpcio                       1.74.0\n",
      "h5py                         3.14.0\n",
      "idna                         3.10\n",
      "immutabledict                4.2.1\n",
      "importlib_resources          6.5.2\n",
      "ipykernel                    6.30.1\n",
      "ipython                      8.37.0\n",
      "jedi                         0.19.2\n",
      "jupyter_client               8.6.3\n",
      "jupyter_core                 5.8.1\n",
      "keras                        2.15.0\n",
      "libclang                     18.1.1\n",
      "Markdown                     3.8.2\n",
      "markdown-it-py               3.0.0\n",
      "MarkupSafe                   3.0.2\n",
      "matplotlib-inline            0.1.7\n",
      "mdurl                        0.1.2\n",
      "ml-dtypes                    0.3.2\n",
      "namex                        0.1.0\n",
      "nest-asyncio                 1.6.0\n",
      "numpy                        1.26.4\n",
      "oauthlib                     3.3.1\n",
      "opt_einsum                   3.4.0\n",
      "optree                       0.17.0\n",
      "packaging                    25.0\n",
      "parso                        0.8.4\n",
      "pip                          22.3.1\n",
      "platformdirs                 4.3.8\n",
      "promise                      2.3\n",
      "prompt_toolkit               3.0.51\n",
      "protobuf                     4.21.12\n",
      "psutil                       7.0.0\n",
      "pure_eval                    0.2.3\n",
      "pyarrow                      21.0.0\n",
      "pyasn1                       0.6.1\n",
      "pyasn1_modules               0.4.2\n",
      "Pygments                     2.19.2\n",
      "python-dateutil              2.9.0.post0\n",
      "pywin32                      311\n",
      "pyzmq                        27.0.1\n",
      "requests                     2.32.4\n",
      "requests-oauthlib            2.0.0\n",
      "rich                         14.1.0\n",
      "rsa                          4.9.1\n",
      "setuptools                   65.5.0\n",
      "simple-parsing               0.1.7\n",
      "six                          1.17.0\n",
      "stack-data                   0.6.3\n",
      "tensorboard                  2.15.2\n",
      "tensorboard-data-server      0.7.2\n",
      "tensorflow                   2.15.1\n",
      "tensorflow-datasets          4.9.9\n",
      "tensorflow-estimator         2.15.0\n",
      "tensorflow-hub               0.16.1\n",
      "tensorflow-intel             2.15.1\n",
      "tensorflow-io-gcs-filesystem 0.31.0\n",
      "tensorflow-metadata          1.17.2\n",
      "termcolor                    3.1.0\n",
      "tf_keras                     2.15.1\n",
      "toml                         0.10.2\n",
      "tornado                      6.5.1\n",
      "tqdm                         4.67.1\n",
      "traitlets                    5.14.3\n",
      "typing_extensions            4.14.1\n",
      "urllib3                      2.5.0\n",
      "wcwidth                      0.2.13\n",
      "Werkzeug                     3.1.3\n",
      "wheel                        0.45.1\n",
      "wrapt                        1.14.1\n",
      "zipp                         3.23.0\n"
     ]
    },
    {
     "name": "stderr",
     "output_type": "stream",
     "text": [
      "\n",
      "[notice] A new release of pip available: 22.3.1 -> 25.2\n",
      "[notice] To update, run: python.exe -m pip install --upgrade pip\n"
     ]
    }
   ],
   "source": [
    "!pip list"
   ]
  },
  {
   "cell_type": "code",
   "execution_count": 2,
   "id": "50b0e785-debb-4540-a47b-fd3cc96661ae",
   "metadata": {},
   "outputs": [
    {
     "name": "stdout",
     "output_type": "stream",
     "text": [
      "Requirement already satisfied: tensorflow<2.16 in c:\\users\\tanvi\\appdata\\local\\programs\\python\\python310\\lib\\site-packages (2.15.1)\n",
      "Requirement already satisfied: tensorflow_hub in c:\\users\\tanvi\\appdata\\local\\programs\\python\\python310\\lib\\site-packages (0.16.1)\n",
      "Requirement already satisfied: tensorflow_datasets in c:\\users\\tanvi\\appdata\\local\\programs\\python\\python310\\lib\\site-packages (4.9.9)\n",
      "Requirement already satisfied: tensorflow-intel==2.15.1 in c:\\users\\tanvi\\appdata\\local\\programs\\python\\python310\\lib\\site-packages (from tensorflow<2.16) (2.15.1)\n",
      "Requirement already satisfied: tensorflow-estimator<2.16,>=2.15.0 in c:\\users\\tanvi\\appdata\\local\\programs\\python\\python310\\lib\\site-packages (from tensorflow-intel==2.15.1->tensorflow<2.16) (2.15.0)\n",
      "Requirement already satisfied: protobuf!=4.21.0,!=4.21.1,!=4.21.2,!=4.21.3,!=4.21.4,!=4.21.5,<5.0.0dev,>=3.20.3 in c:\\users\\tanvi\\appdata\\local\\programs\\python\\python310\\lib\\site-packages (from tensorflow-intel==2.15.1->tensorflow<2.16) (4.21.12)\n",
      "Requirement already satisfied: google-pasta>=0.1.1 in c:\\users\\tanvi\\appdata\\local\\programs\\python\\python310\\lib\\site-packages (from tensorflow-intel==2.15.1->tensorflow<2.16) (0.2.0)\n",
      "Requirement already satisfied: flatbuffers>=23.5.26 in c:\\users\\tanvi\\appdata\\local\\programs\\python\\python310\\lib\\site-packages (from tensorflow-intel==2.15.1->tensorflow<2.16) (25.2.10)\n",
      "Requirement already satisfied: termcolor>=1.1.0 in c:\\users\\tanvi\\appdata\\local\\programs\\python\\python310\\lib\\site-packages (from tensorflow-intel==2.15.1->tensorflow<2.16) (3.1.0)\n",
      "Requirement already satisfied: h5py>=2.9.0 in c:\\users\\tanvi\\appdata\\local\\programs\\python\\python310\\lib\\site-packages (from tensorflow-intel==2.15.1->tensorflow<2.16) (3.14.0)\n",
      "Requirement already satisfied: numpy<2.0.0,>=1.23.5 in c:\\users\\tanvi\\appdata\\local\\programs\\python\\python310\\lib\\site-packages (from tensorflow-intel==2.15.1->tensorflow<2.16) (1.26.4)\n",
      "Requirement already satisfied: packaging in c:\\users\\tanvi\\appdata\\local\\programs\\python\\python310\\lib\\site-packages (from tensorflow-intel==2.15.1->tensorflow<2.16) (25.0)\n",
      "Requirement already satisfied: tensorboard<2.16,>=2.15 in c:\\users\\tanvi\\appdata\\local\\programs\\python\\python310\\lib\\site-packages (from tensorflow-intel==2.15.1->tensorflow<2.16) (2.15.2)\n",
      "Requirement already satisfied: libclang>=13.0.0 in c:\\users\\tanvi\\appdata\\local\\programs\\python\\python310\\lib\\site-packages (from tensorflow-intel==2.15.1->tensorflow<2.16) (18.1.1)\n",
      "Requirement already satisfied: ml-dtypes~=0.3.1 in c:\\users\\tanvi\\appdata\\local\\programs\\python\\python310\\lib\\site-packages (from tensorflow-intel==2.15.1->tensorflow<2.16) (0.3.2)\n",
      "Requirement already satisfied: absl-py>=1.0.0 in c:\\users\\tanvi\\appdata\\local\\programs\\python\\python310\\lib\\site-packages (from tensorflow-intel==2.15.1->tensorflow<2.16) (2.3.1)\n",
      "Requirement already satisfied: keras<2.16,>=2.15.0 in c:\\users\\tanvi\\appdata\\local\\programs\\python\\python310\\lib\\site-packages (from tensorflow-intel==2.15.1->tensorflow<2.16) (2.15.0)\n",
      "Requirement already satisfied: wrapt<1.15,>=1.11.0 in c:\\users\\tanvi\\appdata\\local\\programs\\python\\python310\\lib\\site-packages (from tensorflow-intel==2.15.1->tensorflow<2.16) (1.14.1)\n",
      "Requirement already satisfied: astunparse>=1.6.0 in c:\\users\\tanvi\\appdata\\local\\programs\\python\\python310\\lib\\site-packages (from tensorflow-intel==2.15.1->tensorflow<2.16) (1.6.3)\n",
      "Requirement already satisfied: setuptools in c:\\users\\tanvi\\appdata\\local\\programs\\python\\python310\\lib\\site-packages (from tensorflow-intel==2.15.1->tensorflow<2.16) (65.5.0)\n",
      "Requirement already satisfied: gast!=0.5.0,!=0.5.1,!=0.5.2,>=0.2.1 in c:\\users\\tanvi\\appdata\\local\\programs\\python\\python310\\lib\\site-packages (from tensorflow-intel==2.15.1->tensorflow<2.16) (0.6.0)\n",
      "Requirement already satisfied: six>=1.12.0 in c:\\users\\tanvi\\appdata\\local\\programs\\python\\python310\\lib\\site-packages (from tensorflow-intel==2.15.1->tensorflow<2.16) (1.17.0)\n",
      "Requirement already satisfied: tensorflow-io-gcs-filesystem>=0.23.1 in c:\\users\\tanvi\\appdata\\local\\programs\\python\\python310\\lib\\site-packages (from tensorflow-intel==2.15.1->tensorflow<2.16) (0.31.0)\n",
      "Requirement already satisfied: typing-extensions>=3.6.6 in c:\\users\\tanvi\\appdata\\local\\programs\\python\\python310\\lib\\site-packages (from tensorflow-intel==2.15.1->tensorflow<2.16) (4.14.1)\n",
      "Requirement already satisfied: grpcio<2.0,>=1.24.3 in c:\\users\\tanvi\\appdata\\local\\programs\\python\\python310\\lib\\site-packages (from tensorflow-intel==2.15.1->tensorflow<2.16) (1.74.0)\n",
      "Requirement already satisfied: opt-einsum>=2.3.2 in c:\\users\\tanvi\\appdata\\local\\programs\\python\\python310\\lib\\site-packages (from tensorflow-intel==2.15.1->tensorflow<2.16) (3.4.0)\n",
      "Requirement already satisfied: tf-keras>=2.14.1 in c:\\users\\tanvi\\appdata\\local\\programs\\python\\python310\\lib\\site-packages (from tensorflow_hub) (2.15.1)\n",
      "Requirement already satisfied: tqdm in c:\\users\\tanvi\\appdata\\local\\programs\\python\\python310\\lib\\site-packages (from tensorflow_datasets) (4.67.1)\n",
      "Requirement already satisfied: promise in c:\\users\\tanvi\\appdata\\local\\programs\\python\\python310\\lib\\site-packages (from tensorflow_datasets) (2.3)\n",
      "Requirement already satisfied: simple_parsing in c:\\users\\tanvi\\appdata\\local\\programs\\python\\python310\\lib\\site-packages (from tensorflow_datasets) (0.1.7)\n",
      "Requirement already satisfied: requests>=2.19.0 in c:\\users\\tanvi\\appdata\\local\\programs\\python\\python310\\lib\\site-packages (from tensorflow_datasets) (2.32.4)\n",
      "Requirement already satisfied: immutabledict in c:\\users\\tanvi\\appdata\\local\\programs\\python\\python310\\lib\\site-packages (from tensorflow_datasets) (4.2.1)\n",
      "Requirement already satisfied: dm-tree in c:\\users\\tanvi\\appdata\\local\\programs\\python\\python310\\lib\\site-packages (from tensorflow_datasets) (0.1.9)\n",
      "Requirement already satisfied: tensorflow-metadata in c:\\users\\tanvi\\appdata\\local\\programs\\python\\python310\\lib\\site-packages (from tensorflow_datasets) (1.17.2)\n",
      "Requirement already satisfied: toml in c:\\users\\tanvi\\appdata\\local\\programs\\python\\python310\\lib\\site-packages (from tensorflow_datasets) (0.10.2)\n",
      "Requirement already satisfied: psutil in c:\\users\\tanvi\\appdata\\local\\programs\\python\\python310\\lib\\site-packages (from tensorflow_datasets) (7.0.0)\n",
      "Requirement already satisfied: pyarrow in c:\\users\\tanvi\\appdata\\local\\programs\\python\\python310\\lib\\site-packages (from tensorflow_datasets) (21.0.0)\n",
      "Requirement already satisfied: etils[edc,enp,epath,epy,etree]>=1.6.0 in c:\\users\\tanvi\\appdata\\local\\programs\\python\\python310\\lib\\site-packages (from tensorflow_datasets) (1.13.0)\n",
      "Requirement already satisfied: importlib_resources in c:\\users\\tanvi\\appdata\\local\\programs\\python\\python310\\lib\\site-packages (from etils[edc,enp,epath,epy,etree]>=1.6.0->tensorflow_datasets) (6.5.2)\n",
      "Requirement already satisfied: zipp in c:\\users\\tanvi\\appdata\\local\\programs\\python\\python310\\lib\\site-packages (from etils[edc,enp,epath,epy,etree]>=1.6.0->tensorflow_datasets) (3.23.0)\n",
      "Requirement already satisfied: fsspec in c:\\users\\tanvi\\appdata\\local\\programs\\python\\python310\\lib\\site-packages (from etils[edc,enp,epath,epy,etree]>=1.6.0->tensorflow_datasets) (2025.7.0)\n",
      "Requirement already satisfied: einops in c:\\users\\tanvi\\appdata\\local\\programs\\python\\python310\\lib\\site-packages (from etils[edc,enp,epath,epy,etree]>=1.6.0->tensorflow_datasets) (0.8.1)\n",
      "Requirement already satisfied: charset_normalizer<4,>=2 in c:\\users\\tanvi\\appdata\\local\\programs\\python\\python310\\lib\\site-packages (from requests>=2.19.0->tensorflow_datasets) (3.4.2)\n",
      "Requirement already satisfied: idna<4,>=2.5 in c:\\users\\tanvi\\appdata\\local\\programs\\python\\python310\\lib\\site-packages (from requests>=2.19.0->tensorflow_datasets) (3.10)\n",
      "Requirement already satisfied: urllib3<3,>=1.21.1 in c:\\users\\tanvi\\appdata\\local\\programs\\python\\python310\\lib\\site-packages (from requests>=2.19.0->tensorflow_datasets) (2.5.0)\n",
      "Requirement already satisfied: certifi>=2017.4.17 in c:\\users\\tanvi\\appdata\\local\\programs\\python\\python310\\lib\\site-packages (from requests>=2.19.0->tensorflow_datasets) (2025.8.3)\n",
      "Requirement already satisfied: attrs>=18.2.0 in c:\\users\\tanvi\\appdata\\local\\programs\\python\\python310\\lib\\site-packages (from dm-tree->tensorflow_datasets) (25.3.0)\n",
      "Requirement already satisfied: docstring-parser<1.0,>=0.15 in c:\\users\\tanvi\\appdata\\local\\programs\\python\\python310\\lib\\site-packages (from simple_parsing->tensorflow_datasets) (0.17.0)\n",
      "Requirement already satisfied: colorama in c:\\users\\tanvi\\appdata\\local\\programs\\python\\python310\\lib\\site-packages (from tqdm->tensorflow_datasets) (0.4.6)\n",
      "Requirement already satisfied: wheel<1.0,>=0.23.0 in c:\\users\\tanvi\\appdata\\local\\programs\\python\\python310\\lib\\site-packages (from astunparse>=1.6.0->tensorflow-intel==2.15.1->tensorflow<2.16) (0.45.1)\n",
      "Requirement already satisfied: google-auth-oauthlib<2,>=0.5 in c:\\users\\tanvi\\appdata\\local\\programs\\python\\python310\\lib\\site-packages (from tensorboard<2.16,>=2.15->tensorflow-intel==2.15.1->tensorflow<2.16) (1.2.2)\n",
      "Requirement already satisfied: werkzeug>=1.0.1 in c:\\users\\tanvi\\appdata\\local\\programs\\python\\python310\\lib\\site-packages (from tensorboard<2.16,>=2.15->tensorflow-intel==2.15.1->tensorflow<2.16) (3.1.3)\n",
      "Requirement already satisfied: google-auth<3,>=1.6.3 in c:\\users\\tanvi\\appdata\\local\\programs\\python\\python310\\lib\\site-packages (from tensorboard<2.16,>=2.15->tensorflow-intel==2.15.1->tensorflow<2.16) (2.40.3)\n",
      "Requirement already satisfied: tensorboard-data-server<0.8.0,>=0.7.0 in c:\\users\\tanvi\\appdata\\local\\programs\\python\\python310\\lib\\site-packages (from tensorboard<2.16,>=2.15->tensorflow-intel==2.15.1->tensorflow<2.16) (0.7.2)\n",
      "Requirement already satisfied: markdown>=2.6.8 in c:\\users\\tanvi\\appdata\\local\\programs\\python\\python310\\lib\\site-packages (from tensorboard<2.16,>=2.15->tensorflow-intel==2.15.1->tensorflow<2.16) (3.8.2)\n",
      "Requirement already satisfied: rsa<5,>=3.1.4 in c:\\users\\tanvi\\appdata\\local\\programs\\python\\python310\\lib\\site-packages (from google-auth<3,>=1.6.3->tensorboard<2.16,>=2.15->tensorflow-intel==2.15.1->tensorflow<2.16) (4.9.1)\n",
      "Requirement already satisfied: cachetools<6.0,>=2.0.0 in c:\\users\\tanvi\\appdata\\local\\programs\\python\\python310\\lib\\site-packages (from google-auth<3,>=1.6.3->tensorboard<2.16,>=2.15->tensorflow-intel==2.15.1->tensorflow<2.16) (5.5.2)\n",
      "Requirement already satisfied: pyasn1-modules>=0.2.1 in c:\\users\\tanvi\\appdata\\local\\programs\\python\\python310\\lib\\site-packages (from google-auth<3,>=1.6.3->tensorboard<2.16,>=2.15->tensorflow-intel==2.15.1->tensorflow<2.16) (0.4.2)\n",
      "Requirement already satisfied: requests-oauthlib>=0.7.0 in c:\\users\\tanvi\\appdata\\local\\programs\\python\\python310\\lib\\site-packages (from google-auth-oauthlib<2,>=0.5->tensorboard<2.16,>=2.15->tensorflow-intel==2.15.1->tensorflow<2.16) (2.0.0)\n",
      "Requirement already satisfied: MarkupSafe>=2.1.1 in c:\\users\\tanvi\\appdata\\local\\programs\\python\\python310\\lib\\site-packages (from werkzeug>=1.0.1->tensorboard<2.16,>=2.15->tensorflow-intel==2.15.1->tensorflow<2.16) (3.0.2)\n",
      "Requirement already satisfied: pyasn1<0.7.0,>=0.6.1 in c:\\users\\tanvi\\appdata\\local\\programs\\python\\python310\\lib\\site-packages (from pyasn1-modules>=0.2.1->google-auth<3,>=1.6.3->tensorboard<2.16,>=2.15->tensorflow-intel==2.15.1->tensorflow<2.16) (0.6.1)\n",
      "Requirement already satisfied: oauthlib>=3.0.0 in c:\\users\\tanvi\\appdata\\local\\programs\\python\\python310\\lib\\site-packages (from requests-oauthlib>=0.7.0->google-auth-oauthlib<2,>=0.5->tensorboard<2.16,>=2.15->tensorflow-intel==2.15.1->tensorflow<2.16) (3.3.1)\n"
     ]
    },
    {
     "name": "stderr",
     "output_type": "stream",
     "text": [
      "\n",
      "[notice] A new release of pip available: 22.3.1 -> 25.2\n",
      "[notice] To update, run: python.exe -m pip install --upgrade pip\n"
     ]
    }
   ],
   "source": [
    "!pip install \"tensorflow<2.16\" tensorflow_hub tensorflow_datasets"
   ]
  },
  {
   "cell_type": "code",
   "execution_count": 3,
   "id": "6d7ef8b6-5298-4aca-ba66-0642bc9dab82",
   "metadata": {},
   "outputs": [
    {
     "name": "stdout",
     "output_type": "stream",
     "text": [
      "Note: you may need to restart the kernel to use updated packages.\n"
     ]
    },
    {
     "name": "stderr",
     "output_type": "stream",
     "text": [
      "The system cannot find the file specified.\n"
     ]
    }
   ],
   "source": [
    "pip install numpy<2 pandas matplotlib scikit-learn tensorflow tensorflow_hub tensorflow_datasets"
   ]
  },
  {
   "cell_type": "code",
   "execution_count": 15,
   "id": "cd153d62-f193-467c-a1a2-40721ece9ed8",
   "metadata": {},
   "outputs": [
    {
     "name": "stdout",
     "output_type": "stream",
     "text": [
      "Requirement already satisfied: numpy in c:\\users\\tanvi\\appdata\\local\\programs\\python\\python310\\lib\\site-packages (1.26.4)\n"
     ]
    },
    {
     "name": "stderr",
     "output_type": "stream",
     "text": [
      "\n",
      "[notice] A new release of pip available: 22.3.1 -> 25.2\n",
      "[notice] To update, run: python.exe -m pip install --upgrade pip\n"
     ]
    },
    {
     "name": "stdout",
     "output_type": "stream",
     "text": [
      "Requirement already satisfied: tensorflow in c:\\users\\tanvi\\appdata\\local\\programs\\python\\python310\\lib\\site-packages (2.15.1)\n",
      "Requirement already satisfied: tensorflow-intel==2.15.1 in c:\\users\\tanvi\\appdata\\local\\programs\\python\\python310\\lib\\site-packages (from tensorflow) (2.15.1)\n",
      "Requirement already satisfied: astunparse>=1.6.0 in c:\\users\\tanvi\\appdata\\local\\programs\\python\\python310\\lib\\site-packages (from tensorflow-intel==2.15.1->tensorflow) (1.6.3)\n",
      "Requirement already satisfied: h5py>=2.9.0 in c:\\users\\tanvi\\appdata\\local\\programs\\python\\python310\\lib\\site-packages (from tensorflow-intel==2.15.1->tensorflow) (3.14.0)\n",
      "Requirement already satisfied: wrapt<1.15,>=1.11.0 in c:\\users\\tanvi\\appdata\\local\\programs\\python\\python310\\lib\\site-packages (from tensorflow-intel==2.15.1->tensorflow) (1.14.1)\n",
      "Requirement already satisfied: tensorflow-estimator<2.16,>=2.15.0 in c:\\users\\tanvi\\appdata\\local\\programs\\python\\python310\\lib\\site-packages (from tensorflow-intel==2.15.1->tensorflow) (2.15.0)\n",
      "Requirement already satisfied: tensorflow-io-gcs-filesystem>=0.23.1 in c:\\users\\tanvi\\appdata\\local\\programs\\python\\python310\\lib\\site-packages (from tensorflow-intel==2.15.1->tensorflow) (0.31.0)\n",
      "Requirement already satisfied: grpcio<2.0,>=1.24.3 in c:\\users\\tanvi\\appdata\\local\\programs\\python\\python310\\lib\\site-packages (from tensorflow-intel==2.15.1->tensorflow) (1.74.0)\n",
      "Requirement already satisfied: termcolor>=1.1.0 in c:\\users\\tanvi\\appdata\\local\\programs\\python\\python310\\lib\\site-packages (from tensorflow-intel==2.15.1->tensorflow) (3.1.0)\n",
      "Requirement already satisfied: flatbuffers>=23.5.26 in c:\\users\\tanvi\\appdata\\local\\programs\\python\\python310\\lib\\site-packages (from tensorflow-intel==2.15.1->tensorflow) (25.2.10)\n",
      "Requirement already satisfied: packaging in c:\\users\\tanvi\\appdata\\local\\programs\\python\\python310\\lib\\site-packages (from tensorflow-intel==2.15.1->tensorflow) (25.0)\n",
      "Requirement already satisfied: six>=1.12.0 in c:\\users\\tanvi\\appdata\\local\\programs\\python\\python310\\lib\\site-packages (from tensorflow-intel==2.15.1->tensorflow) (1.17.0)\n",
      "Requirement already satisfied: opt-einsum>=2.3.2 in c:\\users\\tanvi\\appdata\\local\\programs\\python\\python310\\lib\\site-packages (from tensorflow-intel==2.15.1->tensorflow) (3.4.0)\n",
      "Requirement already satisfied: numpy<2.0.0,>=1.23.5 in c:\\users\\tanvi\\appdata\\local\\programs\\python\\python310\\lib\\site-packages (from tensorflow-intel==2.15.1->tensorflow) (1.26.4)\n",
      "Requirement already satisfied: protobuf!=4.21.0,!=4.21.1,!=4.21.2,!=4.21.3,!=4.21.4,!=4.21.5,<5.0.0dev,>=3.20.3 in c:\\users\\tanvi\\appdata\\local\\programs\\python\\python310\\lib\\site-packages (from tensorflow-intel==2.15.1->tensorflow) (4.21.12)\n",
      "Requirement already satisfied: absl-py>=1.0.0 in c:\\users\\tanvi\\appdata\\local\\programs\\python\\python310\\lib\\site-packages (from tensorflow-intel==2.15.1->tensorflow) (2.3.1)\n",
      "Requirement already satisfied: tensorboard<2.16,>=2.15 in c:\\users\\tanvi\\appdata\\local\\programs\\python\\python310\\lib\\site-packages (from tensorflow-intel==2.15.1->tensorflow) (2.15.2)\n",
      "Requirement already satisfied: gast!=0.5.0,!=0.5.1,!=0.5.2,>=0.2.1 in c:\\users\\tanvi\\appdata\\local\\programs\\python\\python310\\lib\\site-packages (from tensorflow-intel==2.15.1->tensorflow) (0.6.0)\n",
      "Requirement already satisfied: keras<2.16,>=2.15.0 in c:\\users\\tanvi\\appdata\\local\\programs\\python\\python310\\lib\\site-packages (from tensorflow-intel==2.15.1->tensorflow) (2.15.0)\n",
      "Requirement already satisfied: libclang>=13.0.0 in c:\\users\\tanvi\\appdata\\local\\programs\\python\\python310\\lib\\site-packages (from tensorflow-intel==2.15.1->tensorflow) (18.1.1)\n",
      "Requirement already satisfied: google-pasta>=0.1.1 in c:\\users\\tanvi\\appdata\\local\\programs\\python\\python310\\lib\\site-packages (from tensorflow-intel==2.15.1->tensorflow) (0.2.0)\n",
      "Requirement already satisfied: ml-dtypes~=0.3.1 in c:\\users\\tanvi\\appdata\\local\\programs\\python\\python310\\lib\\site-packages (from tensorflow-intel==2.15.1->tensorflow) (0.3.2)\n",
      "Requirement already satisfied: setuptools in c:\\users\\tanvi\\appdata\\local\\programs\\python\\python310\\lib\\site-packages (from tensorflow-intel==2.15.1->tensorflow) (65.5.0)\n",
      "Requirement already satisfied: typing-extensions>=3.6.6 in c:\\users\\tanvi\\appdata\\local\\programs\\python\\python310\\lib\\site-packages (from tensorflow-intel==2.15.1->tensorflow) (4.14.1)\n",
      "Requirement already satisfied: wheel<1.0,>=0.23.0 in c:\\users\\tanvi\\appdata\\local\\programs\\python\\python310\\lib\\site-packages (from astunparse>=1.6.0->tensorflow-intel==2.15.1->tensorflow) (0.45.1)\n",
      "Requirement already satisfied: google-auth-oauthlib<2,>=0.5 in c:\\users\\tanvi\\appdata\\local\\programs\\python\\python310\\lib\\site-packages (from tensorboard<2.16,>=2.15->tensorflow-intel==2.15.1->tensorflow) (1.2.2)\n",
      "Requirement already satisfied: tensorboard-data-server<0.8.0,>=0.7.0 in c:\\users\\tanvi\\appdata\\local\\programs\\python\\python310\\lib\\site-packages (from tensorboard<2.16,>=2.15->tensorflow-intel==2.15.1->tensorflow) (0.7.2)\n",
      "Requirement already satisfied: markdown>=2.6.8 in c:\\users\\tanvi\\appdata\\local\\programs\\python\\python310\\lib\\site-packages (from tensorboard<2.16,>=2.15->tensorflow-intel==2.15.1->tensorflow) (3.8.2)\n",
      "Requirement already satisfied: google-auth<3,>=1.6.3 in c:\\users\\tanvi\\appdata\\local\\programs\\python\\python310\\lib\\site-packages (from tensorboard<2.16,>=2.15->tensorflow-intel==2.15.1->tensorflow) (2.40.3)\n",
      "Requirement already satisfied: werkzeug>=1.0.1 in c:\\users\\tanvi\\appdata\\local\\programs\\python\\python310\\lib\\site-packages (from tensorboard<2.16,>=2.15->tensorflow-intel==2.15.1->tensorflow) (3.1.3)\n",
      "Requirement already satisfied: requests<3,>=2.21.0 in c:\\users\\tanvi\\appdata\\local\\programs\\python\\python310\\lib\\site-packages (from tensorboard<2.16,>=2.15->tensorflow-intel==2.15.1->tensorflow) (2.32.4)\n",
      "Requirement already satisfied: cachetools<6.0,>=2.0.0 in c:\\users\\tanvi\\appdata\\local\\programs\\python\\python310\\lib\\site-packages (from google-auth<3,>=1.6.3->tensorboard<2.16,>=2.15->tensorflow-intel==2.15.1->tensorflow) (5.5.2)\n",
      "Requirement already satisfied: rsa<5,>=3.1.4 in c:\\users\\tanvi\\appdata\\local\\programs\\python\\python310\\lib\\site-packages (from google-auth<3,>=1.6.3->tensorboard<2.16,>=2.15->tensorflow-intel==2.15.1->tensorflow) (4.9.1)\n",
      "Requirement already satisfied: pyasn1-modules>=0.2.1 in c:\\users\\tanvi\\appdata\\local\\programs\\python\\python310\\lib\\site-packages (from google-auth<3,>=1.6.3->tensorboard<2.16,>=2.15->tensorflow-intel==2.15.1->tensorflow) (0.4.2)\n",
      "Requirement already satisfied: requests-oauthlib>=0.7.0 in c:\\users\\tanvi\\appdata\\local\\programs\\python\\python310\\lib\\site-packages (from google-auth-oauthlib<2,>=0.5->tensorboard<2.16,>=2.15->tensorflow-intel==2.15.1->tensorflow) (2.0.0)\n",
      "Requirement already satisfied: idna<4,>=2.5 in c:\\users\\tanvi\\appdata\\local\\programs\\python\\python310\\lib\\site-packages (from requests<3,>=2.21.0->tensorboard<2.16,>=2.15->tensorflow-intel==2.15.1->tensorflow) (3.10)\n",
      "Requirement already satisfied: certifi>=2017.4.17 in c:\\users\\tanvi\\appdata\\local\\programs\\python\\python310\\lib\\site-packages (from requests<3,>=2.21.0->tensorboard<2.16,>=2.15->tensorflow-intel==2.15.1->tensorflow) (2025.8.3)\n",
      "Requirement already satisfied: urllib3<3,>=1.21.1 in c:\\users\\tanvi\\appdata\\local\\programs\\python\\python310\\lib\\site-packages (from requests<3,>=2.21.0->tensorboard<2.16,>=2.15->tensorflow-intel==2.15.1->tensorflow) (2.5.0)\n",
      "Requirement already satisfied: charset_normalizer<4,>=2 in c:\\users\\tanvi\\appdata\\local\\programs\\python\\python310\\lib\\site-packages (from requests<3,>=2.21.0->tensorboard<2.16,>=2.15->tensorflow-intel==2.15.1->tensorflow) (3.4.2)\n",
      "Requirement already satisfied: MarkupSafe>=2.1.1 in c:\\users\\tanvi\\appdata\\local\\programs\\python\\python310\\lib\\site-packages (from werkzeug>=1.0.1->tensorboard<2.16,>=2.15->tensorflow-intel==2.15.1->tensorflow) (3.0.2)\n",
      "Requirement already satisfied: pyasn1<0.7.0,>=0.6.1 in c:\\users\\tanvi\\appdata\\local\\programs\\python\\python310\\lib\\site-packages (from pyasn1-modules>=0.2.1->google-auth<3,>=1.6.3->tensorboard<2.16,>=2.15->tensorflow-intel==2.15.1->tensorflow) (0.6.1)\n",
      "Requirement already satisfied: oauthlib>=3.0.0 in c:\\users\\tanvi\\appdata\\local\\programs\\python\\python310\\lib\\site-packages (from requests-oauthlib>=0.7.0->google-auth-oauthlib<2,>=0.5->tensorboard<2.16,>=2.15->tensorflow-intel==2.15.1->tensorflow) (3.3.1)\n"
     ]
    },
    {
     "name": "stderr",
     "output_type": "stream",
     "text": [
      "\n",
      "[notice] A new release of pip available: 22.3.1 -> 25.2\n",
      "[notice] To update, run: python.exe -m pip install --upgrade pip\n"
     ]
    },
    {
     "name": "stdout",
     "output_type": "stream",
     "text": [
      "Requirement already satisfied: tensorflow_hub in c:\\users\\tanvi\\appdata\\local\\programs\\python\\python310\\lib\\site-packages (0.16.1)"
     ]
    },
    {
     "name": "stderr",
     "output_type": "stream",
     "text": [
      "\n",
      "[notice] A new release of pip available: 22.3.1 -> 25.2\n",
      "[notice] To update, run: python.exe -m pip install --upgrade pip\n"
     ]
    },
    {
     "name": "stdout",
     "output_type": "stream",
     "text": [
      "\n",
      "Requirement already satisfied: protobuf>=3.19.6 in c:\\users\\tanvi\\appdata\\local\\programs\\python\\python310\\lib\\site-packages (from tensorflow_hub) (4.21.12)\n",
      "Requirement already satisfied: numpy>=1.12.0 in c:\\users\\tanvi\\appdata\\local\\programs\\python\\python310\\lib\\site-packages (from tensorflow_hub) (1.26.4)\n",
      "Requirement already satisfied: tf-keras>=2.14.1 in c:\\users\\tanvi\\appdata\\local\\programs\\python\\python310\\lib\\site-packages (from tensorflow_hub) (2.15.1)\n",
      "Requirement already satisfied: tensorflow<2.16,>=2.15 in c:\\users\\tanvi\\appdata\\local\\programs\\python\\python310\\lib\\site-packages (from tf-keras>=2.14.1->tensorflow_hub) (2.15.1)\n",
      "Requirement already satisfied: tensorflow-intel==2.15.1 in c:\\users\\tanvi\\appdata\\local\\programs\\python\\python310\\lib\\site-packages (from tensorflow<2.16,>=2.15->tf-keras>=2.14.1->tensorflow_hub) (2.15.1)\n",
      "Requirement already satisfied: packaging in c:\\users\\tanvi\\appdata\\local\\programs\\python\\python310\\lib\\site-packages (from tensorflow-intel==2.15.1->tensorflow<2.16,>=2.15->tf-keras>=2.14.1->tensorflow_hub) (25.0)\n",
      "Requirement already satisfied: wrapt<1.15,>=1.11.0 in c:\\users\\tanvi\\appdata\\local\\programs\\python\\python310\\lib\\site-packages (from tensorflow-intel==2.15.1->tensorflow<2.16,>=2.15->tf-keras>=2.14.1->tensorflow_hub) (1.14.1)\n",
      "Requirement already satisfied: absl-py>=1.0.0 in c:\\users\\tanvi\\appdata\\local\\programs\\python\\python310\\lib\\site-packages (from tensorflow-intel==2.15.1->tensorflow<2.16,>=2.15->tf-keras>=2.14.1->tensorflow_hub) (2.3.1)\n",
      "Requirement already satisfied: flatbuffers>=23.5.26 in c:\\users\\tanvi\\appdata\\local\\programs\\python\\python310\\lib\\site-packages (from tensorflow-intel==2.15.1->tensorflow<2.16,>=2.15->tf-keras>=2.14.1->tensorflow_hub) (25.2.10)\n",
      "Requirement already satisfied: astunparse>=1.6.0 in c:\\users\\tanvi\\appdata\\local\\programs\\python\\python310\\lib\\site-packages (from tensorflow-intel==2.15.1->tensorflow<2.16,>=2.15->tf-keras>=2.14.1->tensorflow_hub) (1.6.3)\n",
      "Requirement already satisfied: keras<2.16,>=2.15.0 in c:\\users\\tanvi\\appdata\\local\\programs\\python\\python310\\lib\\site-packages (from tensorflow-intel==2.15.1->tensorflow<2.16,>=2.15->tf-keras>=2.14.1->tensorflow_hub) (2.15.0)\n",
      "Requirement already satisfied: opt-einsum>=2.3.2 in c:\\users\\tanvi\\appdata\\local\\programs\\python\\python310\\lib\\site-packages (from tensorflow-intel==2.15.1->tensorflow<2.16,>=2.15->tf-keras>=2.14.1->tensorflow_hub) (3.4.0)\n",
      "Requirement already satisfied: typing-extensions>=3.6.6 in c:\\users\\tanvi\\appdata\\local\\programs\\python\\python310\\lib\\site-packages (from tensorflow-intel==2.15.1->tensorflow<2.16,>=2.15->tf-keras>=2.14.1->tensorflow_hub) (4.14.1)\n",
      "Requirement already satisfied: h5py>=2.9.0 in c:\\users\\tanvi\\appdata\\local\\programs\\python\\python310\\lib\\site-packages (from tensorflow-intel==2.15.1->tensorflow<2.16,>=2.15->tf-keras>=2.14.1->tensorflow_hub) (3.14.0)\n",
      "Requirement already satisfied: six>=1.12.0 in c:\\users\\tanvi\\appdata\\local\\programs\\python\\python310\\lib\\site-packages (from tensorflow-intel==2.15.1->tensorflow<2.16,>=2.15->tf-keras>=2.14.1->tensorflow_hub) (1.17.0)\n",
      "Requirement already satisfied: grpcio<2.0,>=1.24.3 in c:\\users\\tanvi\\appdata\\local\\programs\\python\\python310\\lib\\site-packages (from tensorflow-intel==2.15.1->tensorflow<2.16,>=2.15->tf-keras>=2.14.1->tensorflow_hub) (1.74.0)\n",
      "Requirement already satisfied: termcolor>=1.1.0 in c:\\users\\tanvi\\appdata\\local\\programs\\python\\python310\\lib\\site-packages (from tensorflow-intel==2.15.1->tensorflow<2.16,>=2.15->tf-keras>=2.14.1->tensorflow_hub) (3.1.0)\n",
      "Requirement already satisfied: ml-dtypes~=0.3.1 in c:\\users\\tanvi\\appdata\\local\\programs\\python\\python310\\lib\\site-packages (from tensorflow-intel==2.15.1->tensorflow<2.16,>=2.15->tf-keras>=2.14.1->tensorflow_hub) (0.3.2)\n",
      "Requirement already satisfied: tensorflow-estimator<2.16,>=2.15.0 in c:\\users\\tanvi\\appdata\\local\\programs\\python\\python310\\lib\\site-packages (from tensorflow-intel==2.15.1->tensorflow<2.16,>=2.15->tf-keras>=2.14.1->tensorflow_hub) (2.15.0)\n",
      "Requirement already satisfied: gast!=0.5.0,!=0.5.1,!=0.5.2,>=0.2.1 in c:\\users\\tanvi\\appdata\\local\\programs\\python\\python310\\lib\\site-packages (from tensorflow-intel==2.15.1->tensorflow<2.16,>=2.15->tf-keras>=2.14.1->tensorflow_hub) (0.6.0)\n",
      "Requirement already satisfied: libclang>=13.0.0 in c:\\users\\tanvi\\appdata\\local\\programs\\python\\python310\\lib\\site-packages (from tensorflow-intel==2.15.1->tensorflow<2.16,>=2.15->tf-keras>=2.14.1->tensorflow_hub) (18.1.1)\n",
      "Requirement already satisfied: setuptools in c:\\users\\tanvi\\appdata\\local\\programs\\python\\python310\\lib\\site-packages (from tensorflow-intel==2.15.1->tensorflow<2.16,>=2.15->tf-keras>=2.14.1->tensorflow_hub) (65.5.0)\n",
      "Requirement already satisfied: google-pasta>=0.1.1 in c:\\users\\tanvi\\appdata\\local\\programs\\python\\python310\\lib\\site-packages (from tensorflow-intel==2.15.1->tensorflow<2.16,>=2.15->tf-keras>=2.14.1->tensorflow_hub) (0.2.0)\n",
      "Requirement already satisfied: tensorflow-io-gcs-filesystem>=0.23.1 in c:\\users\\tanvi\\appdata\\local\\programs\\python\\python310\\lib\\site-packages (from tensorflow-intel==2.15.1->tensorflow<2.16,>=2.15->tf-keras>=2.14.1->tensorflow_hub) (0.31.0)\n",
      "Requirement already satisfied: tensorboard<2.16,>=2.15 in c:\\users\\tanvi\\appdata\\local\\programs\\python\\python310\\lib\\site-packages (from tensorflow-intel==2.15.1->tensorflow<2.16,>=2.15->tf-keras>=2.14.1->tensorflow_hub) (2.15.2)\n",
      "Requirement already satisfied: wheel<1.0,>=0.23.0 in c:\\users\\tanvi\\appdata\\local\\programs\\python\\python310\\lib\\site-packages (from astunparse>=1.6.0->tensorflow-intel==2.15.1->tensorflow<2.16,>=2.15->tf-keras>=2.14.1->tensorflow_hub) (0.45.1)\n",
      "Requirement already satisfied: werkzeug>=1.0.1 in c:\\users\\tanvi\\appdata\\local\\programs\\python\\python310\\lib\\site-packages (from tensorboard<2.16,>=2.15->tensorflow-intel==2.15.1->tensorflow<2.16,>=2.15->tf-keras>=2.14.1->tensorflow_hub) (3.1.3)\n",
      "Requirement already satisfied: google-auth-oauthlib<2,>=0.5 in c:\\users\\tanvi\\appdata\\local\\programs\\python\\python310\\lib\\site-packages (from tensorboard<2.16,>=2.15->tensorflow-intel==2.15.1->tensorflow<2.16,>=2.15->tf-keras>=2.14.1->tensorflow_hub) (1.2.2)\n",
      "Requirement already satisfied: google-auth<3,>=1.6.3 in c:\\users\\tanvi\\appdata\\local\\programs\\python\\python310\\lib\\site-packages (from tensorboard<2.16,>=2.15->tensorflow-intel==2.15.1->tensorflow<2.16,>=2.15->tf-keras>=2.14.1->tensorflow_hub) (2.40.3)\n",
      "Requirement already satisfied: requests<3,>=2.21.0 in c:\\users\\tanvi\\appdata\\local\\programs\\python\\python310\\lib\\site-packages (from tensorboard<2.16,>=2.15->tensorflow-intel==2.15.1->tensorflow<2.16,>=2.15->tf-keras>=2.14.1->tensorflow_hub) (2.32.4)\n",
      "Requirement already satisfied: tensorboard-data-server<0.8.0,>=0.7.0 in c:\\users\\tanvi\\appdata\\local\\programs\\python\\python310\\lib\\site-packages (from tensorboard<2.16,>=2.15->tensorflow-intel==2.15.1->tensorflow<2.16,>=2.15->tf-keras>=2.14.1->tensorflow_hub) (0.7.2)\n",
      "Requirement already satisfied: markdown>=2.6.8 in c:\\users\\tanvi\\appdata\\local\\programs\\python\\python310\\lib\\site-packages (from tensorboard<2.16,>=2.15->tensorflow-intel==2.15.1->tensorflow<2.16,>=2.15->tf-keras>=2.14.1->tensorflow_hub) (3.8.2)\n",
      "Requirement already satisfied: rsa<5,>=3.1.4 in c:\\users\\tanvi\\appdata\\local\\programs\\python\\python310\\lib\\site-packages (from google-auth<3,>=1.6.3->tensorboard<2.16,>=2.15->tensorflow-intel==2.15.1->tensorflow<2.16,>=2.15->tf-keras>=2.14.1->tensorflow_hub) (4.9.1)\n",
      "Requirement already satisfied: pyasn1-modules>=0.2.1 in c:\\users\\tanvi\\appdata\\local\\programs\\python\\python310\\lib\\site-packages (from google-auth<3,>=1.6.3->tensorboard<2.16,>=2.15->tensorflow-intel==2.15.1->tensorflow<2.16,>=2.15->tf-keras>=2.14.1->tensorflow_hub) (0.4.2)\n",
      "Requirement already satisfied: cachetools<6.0,>=2.0.0 in c:\\users\\tanvi\\appdata\\local\\programs\\python\\python310\\lib\\site-packages (from google-auth<3,>=1.6.3->tensorboard<2.16,>=2.15->tensorflow-intel==2.15.1->tensorflow<2.16,>=2.15->tf-keras>=2.14.1->tensorflow_hub) (5.5.2)\n",
      "Requirement already satisfied: requests-oauthlib>=0.7.0 in c:\\users\\tanvi\\appdata\\local\\programs\\python\\python310\\lib\\site-packages (from google-auth-oauthlib<2,>=0.5->tensorboard<2.16,>=2.15->tensorflow-intel==2.15.1->tensorflow<2.16,>=2.15->tf-keras>=2.14.1->tensorflow_hub) (2.0.0)\n",
      "Requirement already satisfied: urllib3<3,>=1.21.1 in c:\\users\\tanvi\\appdata\\local\\programs\\python\\python310\\lib\\site-packages (from requests<3,>=2.21.0->tensorboard<2.16,>=2.15->tensorflow-intel==2.15.1->tensorflow<2.16,>=2.15->tf-keras>=2.14.1->tensorflow_hub) (2.5.0)\n",
      "Requirement already satisfied: certifi>=2017.4.17 in c:\\users\\tanvi\\appdata\\local\\programs\\python\\python310\\lib\\site-packages (from requests<3,>=2.21.0->tensorboard<2.16,>=2.15->tensorflow-intel==2.15.1->tensorflow<2.16,>=2.15->tf-keras>=2.14.1->tensorflow_hub) (2025.8.3)\n",
      "Requirement already satisfied: charset_normalizer<4,>=2 in c:\\users\\tanvi\\appdata\\local\\programs\\python\\python310\\lib\\site-packages (from requests<3,>=2.21.0->tensorboard<2.16,>=2.15->tensorflow-intel==2.15.1->tensorflow<2.16,>=2.15->tf-keras>=2.14.1->tensorflow_hub) (3.4.2)\n",
      "Requirement already satisfied: idna<4,>=2.5 in c:\\users\\tanvi\\appdata\\local\\programs\\python\\python310\\lib\\site-packages (from requests<3,>=2.21.0->tensorboard<2.16,>=2.15->tensorflow-intel==2.15.1->tensorflow<2.16,>=2.15->tf-keras>=2.14.1->tensorflow_hub) (3.10)\n",
      "Requirement already satisfied: MarkupSafe>=2.1.1 in c:\\users\\tanvi\\appdata\\local\\programs\\python\\python310\\lib\\site-packages (from werkzeug>=1.0.1->tensorboard<2.16,>=2.15->tensorflow-intel==2.15.1->tensorflow<2.16,>=2.15->tf-keras>=2.14.1->tensorflow_hub) (3.0.2)\n",
      "Requirement already satisfied: pyasn1<0.7.0,>=0.6.1 in c:\\users\\tanvi\\appdata\\local\\programs\\python\\python310\\lib\\site-packages (from pyasn1-modules>=0.2.1->google-auth<3,>=1.6.3->tensorboard<2.16,>=2.15->tensorflow-intel==2.15.1->tensorflow<2.16,>=2.15->tf-keras>=2.14.1->tensorflow_hub) (0.6.1)\n",
      "Requirement already satisfied: oauthlib>=3.0.0 in c:\\users\\tanvi\\appdata\\local\\programs\\python\\python310\\lib\\site-packages (from requests-oauthlib>=0.7.0->google-auth-oauthlib<2,>=0.5->tensorboard<2.16,>=2.15->tensorflow-intel==2.15.1->tensorflow<2.16,>=2.15->tf-keras>=2.14.1->tensorflow_hub) (3.3.1)\n",
      "Requirement already satisfied: tensorflow_datasets in c:\\users\\tanvi\\appdata\\local\\programs\\python\\python310\\lib\\site-packages (4.9.9)\n",
      "Requirement already satisfied: pyarrow in c:\\users\\tanvi\\appdata\\local\\programs\\python\\python310\\lib\\site-packages (from tensorflow_datasets) (21.0.0)\n",
      "Requirement already satisfied: simple_parsing in c:\\users\\tanvi\\appdata\\local\\programs\\python\\python310\\lib\\site-packages (from tensorflow_datasets) (0.1.7)\n",
      "Requirement already satisfied: absl-py in c:\\users\\tanvi\\appdata\\local\\programs\\python\\python310\\lib\\site-packages (from tensorflow_datasets) (2.3.1)\n",
      "Requirement already satisfied: protobuf>=3.20 in c:\\users\\tanvi\\appdata\\local\\programs\\python\\python310\\lib\\site-packages (from tensorflow_datasets) (4.21.12)\n",
      "Requirement already satisfied: tqdm in c:\\users\\tanvi\\appdata\\local\\programs\\python\\python310\\lib\\site-packages (from tensorflow_datasets) (4.67.1)\n",
      "Requirement already satisfied: etils[edc,enp,epath,epy,etree]>=1.6.0 in c:\\users\\tanvi\\appdata\\local\\programs\\python\\python310\\lib\\site-packages (from tensorflow_datasets) (1.13.0)\n",
      "Requirement already satisfied: promise in c:\\users\\tanvi\\appdata\\local\\programs\\python\\python310\\lib\\site-packages (from tensorflow_datasets) (2.3)\n",
      "Requirement already satisfied: toml in c:\\users\\tanvi\\appdata\\local\\programs\\python\\python310\\lib\\site-packages (from tensorflow_datasets) (0.10.2)\n",
      "Requirement already satisfied: numpy in c:\\users\\tanvi\\appdata\\local\\programs\\python\\python310\\lib\\site-packages (from tensorflow_datasets) (1.26.4)\n",
      "Requirement already satisfied: termcolor in c:\\users\\tanvi\\appdata\\local\\programs\\python\\python310\\lib\\site-packages (from tensorflow_datasets) (3.1.0)\n",
      "Requirement already satisfied: tensorflow-metadata in c:\\users\\tanvi\\appdata\\local\\programs\\python\\python310\\lib\\site-packages (from tensorflow_datasets) (1.17.2)\n",
      "Requirement already satisfied: psutil in c:\\users\\tanvi\\appdata\\local\\programs\\python\\python310\\lib\\site-packages (from tensorflow_datasets) (7.0.0)\n",
      "Requirement already satisfied: dm-tree in c:\\users\\tanvi\\appdata\\local\\programs\\python\\python310\\lib\\site-packages (from tensorflow_datasets) (0.1.9)\n",
      "Requirement already satisfied: wrapt in c:\\users\\tanvi\\appdata\\local\\programs\\python\\python310\\lib\\site-packages (from tensorflow_datasets) (1.14.1)\n",
      "Requirement already satisfied: immutabledict in c:\\users\\tanvi\\appdata\\local\\programs\\python\\python310\\lib\\site-packages (from tensorflow_datasets) (4.2.1)\n",
      "Requirement already satisfied: requests>=2.19.0 in c:\\users\\tanvi\\appdata\\local\\programs\\python\\python310\\lib\\site-packages (from tensorflow_datasets) (2.32.4)\n",
      "Requirement already satisfied: typing_extensions in c:\\users\\tanvi\\appdata\\local\\programs\\python\\python310\\lib\\site-packages (from etils[edc,enp,epath,epy,etree]>=1.6.0->tensorflow_datasets) (4.14.1)\n",
      "Requirement already satisfied: zipp in c:\\users\\tanvi\\appdata\\local\\programs\\python\\python310\\lib\\site-packages (from etils[edc,enp,epath,epy,etree]>=1.6.0->tensorflow_datasets) (3.23.0)\n",
      "Requirement already satisfied: fsspec in c:\\users\\tanvi\\appdata\\local\\programs\\python\\python310\\lib\\site-packages (from etils[edc,enp,epath,epy,etree]>=1.6.0->tensorflow_datasets) (2025.7.0)\n",
      "Requirement already satisfied: importlib_resources in c:\\users\\tanvi\\appdata\\local\\programs\\python\\python310\\lib\\site-packages (from etils[edc,enp,epath,epy,etree]>=1.6.0->tensorflow_datasets) (6.5.2)\n",
      "Requirement already satisfied: einops in c:\\users\\tanvi\\appdata\\local\\programs\\python\\python310\\lib\\site-packages (from etils[edc,enp,epath,epy,etree]>=1.6.0->tensorflow_datasets) (0.8.1)\n",
      "Requirement already satisfied: certifi>=2017.4.17 in c:\\users\\tanvi\\appdata\\local\\programs\\python\\python310\\lib\\site-packages (from requests>=2.19.0->tensorflow_datasets) (2025.8.3)\n",
      "Requirement already satisfied: idna<4,>=2.5 in c:\\users\\tanvi\\appdata\\local\\programs\\python\\python310\\lib\\site-packages (from requests>=2.19.0->tensorflow_datasets) (3.10)\n",
      "Requirement already satisfied: charset_normalizer<4,>=2 in c:\\users\\tanvi\\appdata\\local\\programs\\python\\python310\\lib\\site-packages (from requests>=2.19.0->tensorflow_datasets) (3.4.2)\n",
      "Requirement already satisfied: urllib3<3,>=1.21.1 in c:\\users\\tanvi\\appdata\\local\\programs\\python\\python310\\lib\\site-packages (from requests>=2.19.0->tensorflow_datasets) (2.5.0)\n",
      "Requirement already satisfied: attrs>=18.2.0 in c:\\users\\tanvi\\appdata\\local\\programs\\python\\python310\\lib\\site-packages (from dm-tree->tensorflow_datasets) (25.3.0)\n",
      "Requirement already satisfied: six in c:\\users\\tanvi\\appdata\\local\\programs\\python\\python310\\lib\\site-packages (from promise->tensorflow_datasets) (1.17.0)\n",
      "Requirement already satisfied: docstring-parser<1.0,>=0.15 in c:\\users\\tanvi\\appdata\\local\\programs\\python\\python310\\lib\\site-packages (from simple_parsing->tensorflow_datasets) (0.17.0)\n",
      "Requirement already satisfied: colorama in c:\\users\\tanvi\\appdata\\local\\programs\\python\\python310\\lib\\site-packages (from tqdm->tensorflow_datasets) (0.4.6)\n",
      "2.15.1\n"
     ]
    },
    {
     "name": "stderr",
     "output_type": "stream",
     "text": [
      "\n",
      "[notice] A new release of pip available: 22.3.1 -> 25.2\n",
      "[notice] To update, run: python.exe -m pip install --upgrade pip\n"
     ]
    }
   ],
   "source": [
    "!pip install numpy\n",
    "!pip install tensorflow\n",
    "!pip install tensorflow_hub\n",
    "!pip install tensorflow_datasets\n",
    "\n",
    "import os\n",
    "os.environ['TF_CPP_MIN_LOG_LEVEL'] = '2'\n",
    "\n",
    "import numpy as np\n",
    "# tensorflow packages\n",
    "import tensorflow as tf\n",
    "import tensorflow_hub as hub\n",
    "import tensorflow_datasets as tfds\n",
    "\n",
    "print(tf.__version__)"
   ]
  },
  {
   "cell_type": "code",
   "execution_count": 5,
   "id": "79771c53-1828-414a-959c-ec749c6175e8",
   "metadata": {},
   "outputs": [],
   "source": [
    "train_data, validation_data, test_data = tfds.load(name=\"imdb_reviews\",\n",
    "                                                 split=(\"train[:60%]\", 'train[60%:]', 'test'),\n",
    "                                                 as_supervised=True)"
   ]
  },
  {
   "cell_type": "code",
   "execution_count": 6,
   "id": "274930fe-9b56-4cb6-8fc0-abbd7cc5c7f1",
   "metadata": {},
   "outputs": [
    {
     "data": {
      "text/plain": [
       "<_PrefetchDataset element_spec=(TensorSpec(shape=(), dtype=tf.string, name=None), TensorSpec(shape=(), dtype=tf.int64, name=None))>"
      ]
     },
     "execution_count": 6,
     "metadata": {},
     "output_type": "execute_result"
    }
   ],
   "source": [
    "train_data"
   ]
  },
  {
   "cell_type": "code",
   "execution_count": 16,
   "id": "3eb03f39-2f6d-4e0d-92f9-5adf8104a86f",
   "metadata": {},
   "outputs": [
    {
     "name": "stdout",
     "output_type": "stream",
     "text": [
      "Model: \"sequential_1\"\n",
      "_________________________________________________________________\n",
      " Layer (type)                Output Shape              Param #   \n",
      "=================================================================\n",
      " keras_layer_1 (KerasLayer)  (None, 20)                400020    \n",
      "                                                                 \n",
      " dense_2 (Dense)             (None, 16)                336       \n",
      "                                                                 \n",
      " dense_3 (Dense)             (None, 1)                 17        \n",
      "                                                                 \n",
      "=================================================================\n",
      "Total params: 400373 (1.53 MB)\n",
      "Trainable params: 353 (1.38 KB)\n",
      "Non-trainable params: 400020 (1.53 MB)\n",
      "_________________________________________________________________\n"
     ]
    }
   ],
   "source": [
    "hub_layer = hub.KerasLayer(\"https://kaggle.com/models/google/gnews-swivel/frameworks/TensorFlow2/variations/tf2-preview-20dim/versions/1\", output_shape=[20],\n",
    "                           input_shape=[], dtype=tf.string)\n",
    "\n",
    "model =tf.keras.Sequential()\n",
    "model.add(hub_layer)\n",
    "model.add(tf.keras.layers.Dense(16, activation='relu'))\n",
    "model.add(tf.keras.layers.Dense(1, activation='sigmoid'))\n",
    "\n",
    "model.summary()\n"
   ]
  },
  {
   "cell_type": "code",
   "execution_count": 22,
   "id": "039d1413-3360-44c5-a3de-edb2a5bb2c40",
   "metadata": {},
   "outputs": [],
   "source": [
    "model.compile(optimizer='Adam', loss= tf.losses.BinaryCrossentropy(from_logits=True), metrics=['accuracy'])"
   ]
  },
  {
   "cell_type": "code",
   "execution_count": 23,
   "id": "712d8698-07f8-4fb5-8fc1-0404637f684b",
   "metadata": {},
   "outputs": [
    {
     "name": "stdout",
     "output_type": "stream",
     "text": [
      "Epoch 1/10\n",
      "15/15 [==============================] - 6s 275ms/step - loss: 0.6028 - accuracy: 0.6722 - val_loss: 0.6010 - val_accuracy: 0.6774\n",
      "Epoch 2/10\n",
      "15/15 [==============================] - 4s 238ms/step - loss: 0.5964 - accuracy: 0.6795 - val_loss: 0.5953 - val_accuracy: 0.6848\n",
      "Epoch 3/10\n",
      "15/15 [==============================] - 4s 240ms/step - loss: 0.5917 - accuracy: 0.6839 - val_loss: 0.5905 - val_accuracy: 0.6877\n",
      "Epoch 4/10\n",
      "15/15 [==============================] - 4s 250ms/step - loss: 0.5876 - accuracy: 0.6877 - val_loss: 0.5866 - val_accuracy: 0.6904\n",
      "Epoch 5/10\n",
      "15/15 [==============================] - 4s 265ms/step - loss: 0.5839 - accuracy: 0.6912 - val_loss: 0.5833 - val_accuracy: 0.6936\n",
      "Epoch 6/10\n",
      "15/15 [==============================] - 4s 239ms/step - loss: 0.5806 - accuracy: 0.6943 - val_loss: 0.5804 - val_accuracy: 0.6950\n",
      "Epoch 7/10\n",
      "15/15 [==============================] - 4s 238ms/step - loss: 0.5777 - accuracy: 0.6963 - val_loss: 0.5780 - val_accuracy: 0.6970\n",
      "Epoch 8/10\n",
      "15/15 [==============================] - 3s 236ms/step - loss: 0.5750 - accuracy: 0.6993 - val_loss: 0.5756 - val_accuracy: 0.6997\n",
      "Epoch 9/10\n",
      "15/15 [==============================] - 4s 248ms/step - loss: 0.5731 - accuracy: 0.7013 - val_loss: 0.5734 - val_accuracy: 0.7019\n",
      "Epoch 10/10\n",
      "15/15 [==============================] - 3s 233ms/step - loss: 0.5705 - accuracy: 0.7025 - val_loss: 0.5714 - val_accuracy: 0.7044\n"
     ]
    },
    {
     "data": {
      "text/plain": [
       "<keras.src.callbacks.History at 0x2395df472b0>"
      ]
     },
     "execution_count": 23,
     "metadata": {},
     "output_type": "execute_result"
    }
   ],
   "source": [
    "model.fit(train_data.shuffle(1000).batch(1000), epochs=10, validation_data=validation_data.batch(100),verbose=1)"
   ]
  },
  {
   "cell_type": "code",
   "execution_count": 24,
   "id": "35a8c2f0-68b8-416f-b8b6-dfb990ca96e8",
   "metadata": {},
   "outputs": [
    {
     "name": "stdout",
     "output_type": "stream",
     "text": [
      "Epoch 1/10\n",
      "15/15 [==============================] - 3s 234ms/step - loss: 0.5684 - accuracy: 0.7053 - val_loss: 0.5697 - val_accuracy: 0.7062\n",
      "Epoch 2/10\n",
      "15/15 [==============================] - 3s 234ms/step - loss: 0.5667 - accuracy: 0.7070 - val_loss: 0.5683 - val_accuracy: 0.7083\n",
      "Epoch 3/10\n",
      "15/15 [==============================] - 4s 241ms/step - loss: 0.5653 - accuracy: 0.7091 - val_loss: 0.5669 - val_accuracy: 0.7087\n",
      "Epoch 4/10\n",
      "15/15 [==============================] - 3s 236ms/step - loss: 0.5637 - accuracy: 0.7105 - val_loss: 0.5657 - val_accuracy: 0.7107\n",
      "Epoch 5/10\n",
      "15/15 [==============================] - 3s 232ms/step - loss: 0.5625 - accuracy: 0.7113 - val_loss: 0.5645 - val_accuracy: 0.7125\n",
      "Epoch 6/10\n",
      "15/15 [==============================] - 3s 232ms/step - loss: 0.5615 - accuracy: 0.7124 - val_loss: 0.5635 - val_accuracy: 0.7138\n",
      "Epoch 7/10\n",
      "15/15 [==============================] - 4s 237ms/step - loss: 0.5599 - accuracy: 0.7127 - val_loss: 0.5624 - val_accuracy: 0.7152\n",
      "Epoch 8/10\n",
      "15/15 [==============================] - 3s 233ms/step - loss: 0.5589 - accuracy: 0.7137 - val_loss: 0.5616 - val_accuracy: 0.7154\n",
      "Epoch 9/10\n",
      "15/15 [==============================] - 3s 226ms/step - loss: 0.5586 - accuracy: 0.7159 - val_loss: 0.5607 - val_accuracy: 0.7179\n",
      "Epoch 10/10\n",
      "15/15 [==============================] - 3s 236ms/step - loss: 0.5575 - accuracy: 0.7168 - val_loss: 0.5601 - val_accuracy: 0.7188\n"
     ]
    },
    {
     "data": {
      "text/plain": [
       "<keras.src.callbacks.History at 0x23954794e20>"
      ]
     },
     "execution_count": 24,
     "metadata": {},
     "output_type": "execute_result"
    }
   ],
   "source": [
    "model.fit(train_data.shuffle(1000).batch(1000), epochs=10, validation_data=validation_data.batch(100),verbose=1)"
   ]
  },
  {
   "cell_type": "code",
   "execution_count": 25,
   "id": "c1b282fc-17e7-42ec-8125-de78109cc26a",
   "metadata": {},
   "outputs": [
    {
     "name": "stdout",
     "output_type": "stream",
     "text": [
      "250/250 [==============================] - 5s 19ms/step - loss: 0.5627 - accuracy: 0.7125\n"
     ]
    },
    {
     "data": {
      "text/plain": [
       "[0.5626729130744934, 0.7124800086021423]"
      ]
     },
     "execution_count": 25,
     "metadata": {},
     "output_type": "execute_result"
    }
   ],
   "source": [
    "model.evaluate(test_data.batch(100))"
   ]
  },
  {
   "cell_type": "code",
   "execution_count": 26,
   "id": "58fd64fb-6d35-4419-a82f-ef22f84514ea",
   "metadata": {},
   "outputs": [],
   "source": [
    "train_example_batch, train_labels_batch = next(iter(train_data.batch(10)))"
   ]
  },
  {
   "cell_type": "code",
   "execution_count": 27,
   "id": "4635f000-d407-414e-8aee-b32793a2d7b5",
   "metadata": {},
   "outputs": [
    {
     "data": {
      "text/plain": [
       "<tf.Tensor: shape=(10,), dtype=string, numpy=\n",
       "array([b\"This was an absolutely terrible movie. Don't be lured in by Christopher Walken or Michael Ironside. Both are great actors, but this must simply be their worst role in history. Even their great acting could not redeem this movie's ridiculous storyline. This movie is an early nineties US propaganda piece. The most pathetic scenes were those when the Columbian rebels were making their cases for revolutions. Maria Conchita Alonso appeared phony, and her pseudo-love affair with Walken was nothing but a pathetic emotional plug in a movie that was devoid of any real meaning. I am disappointed that there are movies like this, ruining actor's like Christopher Walken's good name. I could barely sit through it.\",\n",
       "       b'I have been known to fall asleep during films, but this is usually due to a combination of things including, really tired, being warm and comfortable on the sette and having just eaten a lot. However on this occasion I fell asleep because the film was rubbish. The plot development was constant. Constantly slow and boring. Things seemed to happen, but with no explanation of what was causing them or why. I admit, I may have missed part of the film, but i watched the majority of it and everything just seemed to happen of its own accord without any real concern for anything else. I cant recommend this film at all.',\n",
       "       b'Mann photographs the Alberta Rocky Mountains in a superb fashion, and Jimmy Stewart and Walter Brennan give enjoyable performances as they always seem to do. <br /><br />But come on Hollywood - a Mountie telling the people of Dawson City, Yukon to elect themselves a marshal (yes a marshal!) and to enforce the law themselves, then gunfighters battling it out on the streets for control of the town? <br /><br />Nothing even remotely resembling that happened on the Canadian side of the border during the Klondike gold rush. Mr. Mann and company appear to have mistaken Dawson City for Deadwood, the Canadian North for the American Wild West.<br /><br />Canadian viewers be prepared for a Reefer Madness type of enjoyable howl with this ludicrous plot, or, to shake your head in disgust.',\n",
       "       b'This is the kind of film for a snowy Sunday afternoon when the rest of the world can go ahead with its own business as you descend into a big arm-chair and mellow for a couple of hours. Wonderful performances from Cher and Nicolas Cage (as always) gently row the plot along. There are no rapids to cross, no dangerous waters, just a warm and witty paddle through New York life at its best. A family film in every sense and one that deserves the praise it received.',\n",
       "       b'As others have mentioned, all the women that go nude in this film are mostly absolutely gorgeous. The plot very ably shows the hypocrisy of the female libido. When men are around they want to be pursued, but when no \"men\" are around, they become the pursuers of a 14 year old boy. And the boy becomes a man really fast (we should all be so lucky at this age!). He then gets up the courage to pursue his true love.',\n",
       "       b\"This is a film which should be seen by anybody interested in, effected by, or suffering from an eating disorder. It is an amazingly accurate and sensitive portrayal of bulimia in a teenage girl, its causes and its symptoms. The girl is played by one of the most brilliant young actresses working in cinema today, Alison Lohman, who was later so spectacular in 'Where the Truth Lies'. I would recommend that this film be shown in all schools, as you will never see a better on this subject. Alison Lohman is absolutely outstanding, and one marvels at her ability to convey the anguish of a girl suffering from this compulsive disorder. If barometers tell us the air pressure, Alison Lohman tells us the emotional pressure with the same degree of accuracy. Her emotional range is so precise, each scene could be measured microscopically for its gradations of trauma, on a scale of rising hysteria and desperation which reaches unbearable intensity. Mare Winningham is the perfect choice to play her mother, and does so with immense sympathy and a range of emotions just as finely tuned as Lohman's. Together, they make a pair of sensitive emotional oscillators vibrating in resonance with one another. This film is really an astonishing achievement, and director Katt Shea should be proud of it. The only reason for not seeing it is if you are not interested in people. But even if you like nature films best, this is after all animal behaviour at the sharp edge. Bulimia is an extreme version of how a tormented soul can destroy her own body in a frenzy of despair. And if we don't sympathise with people suffering from the depths of despair, then we are dead inside.\",\n",
       "       b'Okay, you have:<br /><br />Penelope Keith as Miss Herringbone-Tweed, B.B.E. (Backbone of England.) She\\'s killed off in the first scene - that\\'s right, folks; this show has no backbone!<br /><br />Peter O\\'Toole as Ol\\' Colonel Cricket from The First War and now the emblazered Lord of the Manor.<br /><br />Joanna Lumley as the ensweatered Lady of the Manor, 20 years younger than the colonel and 20 years past her own prime but still glamourous (Brit spelling, not mine) enough to have a toy-boy on the side. It\\'s alright, they have Col. Cricket\\'s full knowledge and consent (they guy even comes \\'round for Christmas!) Still, she\\'s considerate of the colonel enough to have said toy-boy her own age (what a gal!)<br /><br />David McCallum as said toy-boy, equally as pointlessly glamourous as his squeeze. Pilcher couldn\\'t come up with any cover for him within the story, so she gave him a hush-hush job at the Circus.<br /><br />and finally:<br /><br />Susan Hampshire as Miss Polonia Teacups, Venerable Headmistress of the Venerable Girls\\' Boarding-School, serving tea in her office with a dash of deep, poignant advice for life in the outside world just before graduation. Her best bit of advice: \"I\\'ve only been to Nancherrow (the local Stately Home of England) once. I thought it was very beautiful but, somehow, not part of the real world.\" Well, we can\\'t say they didn\\'t warn us.<br /><br />Ah, Susan - time was, your character would have been running the whole show. They don\\'t write \\'em like that any more. Our loss, not yours.<br /><br />So - with a cast and setting like this, you have the re-makings of \"Brideshead Revisited,\" right?<br /><br />Wrong! They took these 1-dimensional supporting roles because they paid so well. After all, acting is one of the oldest temp-jobs there is (YOU name another!)<br /><br />First warning sign: lots and lots of backlighting. They get around it by shooting outdoors - \"hey, it\\'s just the sunlight!\"<br /><br />Second warning sign: Leading Lady cries a lot. When not crying, her eyes are moist. That\\'s the law of romance novels: Leading Lady is \"dewy-eyed.\"<br /><br />Henceforth, Leading Lady shall be known as L.L.<br /><br />Third warning sign: L.L. actually has stars in her eyes when she\\'s in love. Still, I\\'ll give Emily Mortimer an award just for having to act with that spotlight in her eyes (I wonder . did they use contacts?)<br /><br />And lastly, fourth warning sign: no on-screen female character is \"Mrs.\" She\\'s either \"Miss\" or \"Lady.\"<br /><br />When all was said and done, I still couldn\\'t tell you who was pursuing whom and why. I couldn\\'t even tell you what was said and done.<br /><br />To sum up: they all live through World War II without anything happening to them at all.<br /><br />OK, at the end, L.L. finds she\\'s lost her parents to the Japanese prison camps and baby sis comes home catatonic. Meanwhile (there\\'s always a \"meanwhile,\") some young guy L.L. had a crush on (when, I don\\'t know) comes home from some wartime tough spot and is found living on the street by Lady of the Manor (must be some street if SHE\\'s going to find him there.) Both war casualties are whisked away to recover at Nancherrow (SOMEBODY has to be \"whisked away\" SOMEWHERE in these romance stories!)<br /><br />Great drama.',\n",
       "       b'The film is based on a genuine 1950s novel.<br /><br />Journalist Colin McInnes wrote a set of three \"London novels\": \"Absolute Beginners\", \"City of Spades\" and \"Mr Love and Justice\". I have read all three. The first two are excellent. The last, perhaps an experiment that did not come off. But McInnes\\'s work is highly acclaimed; and rightly so. This musical is the novelist\\'s ultimate nightmare - to see the fruits of one\\'s mind being turned into a glitzy, badly-acted, soporific one-dimensional apology of a film that says it captures the spirit of 1950s London, and does nothing of the sort.<br /><br />Thank goodness Colin McInnes wasn\\'t alive to witness it.',\n",
       "       b'I really love the sexy action and sci-fi films of the sixties and its because of the actress\\'s that appeared in them. They found the sexiest women to be in these films and it didn\\'t matter if they could act (Remember \"Candy\"?). The reason I was disappointed by this film was because it wasn\\'t nostalgic enough. The story here has a European sci-fi film called \"Dragonfly\" being made and the director is fired. So the producers decide to let a young aspiring filmmaker (Jeremy Davies) to complete the picture. They\\'re is one real beautiful woman in the film who plays Dragonfly but she\\'s barely in it. Film is written and directed by Roman Coppola who uses some of his fathers exploits from his early days and puts it into the script. I wish the film could have been an homage to those early films. They could have lots of cameos by actors who appeared in them. There is one actor in this film who was popular from the sixties and its John Phillip Law (Barbarella). Gerard Depardieu, Giancarlo Giannini and Dean Stockwell appear as well. I guess I\\'m going to have to continue waiting for a director to make a good homage to the films of the sixties. If any are reading this, \"Make it as sexy as you can\"! I\\'ll be waiting!',\n",
       "       b'Sure, this one isn\\'t really a blockbuster, nor does it target such a position. \"Dieter\" is the first name of a quite popular German musician, who is either loved or hated for his kind of acting and thats exactly what this movie is about. It is based on the autobiography \"Dieter Bohlen\" wrote a few years ago but isn\\'t meant to be accurate on that. The movie is filled with some sexual offensive content (at least for American standard) which is either amusing (not for the other \"actors\" of course) or dumb - it depends on your individual kind of humor or on you being a \"Bohlen\"-Fan or not. Technically speaking there isn\\'t much to criticize. Speaking of me I find this movie to be an OK-movie.'],\n",
       "      dtype=object)>"
      ]
     },
     "execution_count": 27,
     "metadata": {},
     "output_type": "execute_result"
    }
   ],
   "source": [
    "train_example_batch"
   ]
  },
  {
   "cell_type": "code",
   "execution_count": 28,
   "id": "e786dc30-ee8a-49f6-ac36-644430555f6d",
   "metadata": {},
   "outputs": [
    {
     "data": {
      "text/plain": [
       "<tf.Tensor: shape=(10,), dtype=int64, numpy=array([0, 0, 0, 1, 1, 1, 0, 0, 0, 0], dtype=int64)>"
      ]
     },
     "execution_count": 28,
     "metadata": {},
     "output_type": "execute_result"
    }
   ],
   "source": [
    "train_labels_batch"
   ]
  },
  {
   "cell_type": "code",
   "execution_count": 34,
   "id": "a39a74f6-c65d-4c4d-9a77-f1d1a988ff07",
   "metadata": {},
   "outputs": [],
   "source": [
    "embedding = \"https://tfhub.dev/google/tf2-preview/gnews-swivel-20dim/1\"\n",
    "hub_layer = hub. KerasLayer(embedding,input_shape=[], dtype=tf.string, trainable=True)"
   ]
  },
  {
   "cell_type": "code",
   "execution_count": 35,
   "id": "fb9af223-5f96-49db-a113-67f9314bec45",
   "metadata": {},
   "outputs": [
    {
     "data": {
      "text/plain": [
       "<tf.Tensor: shape=(3, 20), dtype=float32, numpy=\n",
       "array([[ 1.765786  , -3.882232  ,  3.9134233 , -1.5557289 , -3.3362343 ,\n",
       "        -1.7357955 , -1.9954445 ,  1.2989551 ,  5.081598  , -1.1041286 ,\n",
       "        -2.0503852 , -0.72675157, -0.65675956,  0.24436149, -3.7208383 ,\n",
       "         2.0954835 ,  2.2969332 , -2.0689783 , -2.9489717 , -1.1315987 ],\n",
       "       [ 1.8804485 , -2.5852382 ,  3.4066997 ,  1.0982676 , -4.056685  ,\n",
       "        -4.891284  , -2.785554  ,  1.3874227 ,  3.8476458 , -0.9256538 ,\n",
       "        -1.896706  ,  1.2113281 ,  0.11474707,  0.76209456, -4.8791065 ,\n",
       "         2.906149  ,  4.7087674 , -2.3652055 , -3.5015898 , -1.6390051 ],\n",
       "       [ 0.71152234, -0.6353217 ,  1.7385626 , -1.1168286 , -0.5451594 ,\n",
       "        -1.1808156 ,  0.09504455,  1.4653089 ,  0.66059524,  0.79308075,\n",
       "        -2.2268345 ,  0.07446612, -1.4075904 , -0.70645386, -1.907037  ,\n",
       "         1.4419787 ,  1.9551861 , -0.42660055, -2.8022065 ,  0.43727064]],\n",
       "      dtype=float32)>"
      ]
     },
     "execution_count": 35,
     "metadata": {},
     "output_type": "execute_result"
    }
   ],
   "source": [
    "hub_layer(train_example_batch[:3])"
   ]
  },
  {
   "cell_type": "code",
   "execution_count": 39,
   "id": "b7665571-ef55-49f9-9e42-7f9ecb293cb8",
   "metadata": {},
   "outputs": [],
   "source": [
    "model=tf.keras.Sequential()\n",
    "model.add(hub_layer)\n",
    "model.add(tf.keras.layers.Dense(16, activation=\"relu\"))\n",
    "model.add(tf.keras.layers.Dense(1))"
   ]
  },
  {
   "cell_type": "code",
   "execution_count": 40,
   "id": "c9c293d6-9de6-45cb-b4ba-76229cf6e297",
   "metadata": {},
   "outputs": [
    {
     "name": "stdout",
     "output_type": "stream",
     "text": [
      "Model: \"sequential_3\"\n",
      "_________________________________________________________________\n",
      " Layer (type)                Output Shape              Param #   \n",
      "=================================================================\n",
      " keras_layer_2 (KerasLayer)  (None, 20)                400020    \n",
      "                                                                 \n",
      " dense_4 (Dense)             (None, 16)                336       \n",
      "                                                                 \n",
      " dense_5 (Dense)             (None, 1)                 17        \n",
      "                                                                 \n",
      "=================================================================\n",
      "Total params: 400373 (1.53 MB)\n",
      "Trainable params: 400373 (1.53 MB)\n",
      "Non-trainable params: 0 (0.00 Byte)\n",
      "_________________________________________________________________\n"
     ]
    }
   ],
   "source": [
    "model.summary()"
   ]
  },
  {
   "cell_type": "code",
   "execution_count": 47,
   "id": "493bc5d2-9ce0-4f9e-85cb-7552570e4a49",
   "metadata": {},
   "outputs": [],
   "source": [
    "model.compile(optimizer='adam', loss=tf.keras.losses.BinaryCrossentropy(from_logits=True), metrics=['accuracy'])"
   ]
  },
  {
   "cell_type": "code",
   "execution_count": 53,
   "id": "8ef15ab4-405c-4943-992a-6ce1d4c5a3d3",
   "metadata": {},
   "outputs": [
    {
     "name": "stdout",
     "output_type": "stream",
     "text": [
      "Epoch 1/25\n",
      "150/150 [==============================] - 9s 47ms/step - loss: 0.8279 - accuracy: 0.6016 - val_loss: 0.6113 - val_accuracy: 0.6469\n",
      "Epoch 2/25\n",
      "150/150 [==============================] - 6s 38ms/step - loss: 0.5532 - accuracy: 0.6970 - val_loss: 0.5113 - val_accuracy: 0.7372\n",
      "Epoch 3/25\n",
      "150/150 [==============================] - 5s 34ms/step - loss: 0.4592 - accuracy: 0.7729 - val_loss: 0.4384 - val_accuracy: 0.7907\n",
      "Epoch 4/25\n",
      "150/150 [==============================] - 6s 36ms/step - loss: 0.3847 - accuracy: 0.8240 - val_loss: 0.3911 - val_accuracy: 0.8271\n",
      "Epoch 5/25\n",
      "150/150 [==============================] - 5s 35ms/step - loss: 0.3270 - accuracy: 0.8526 - val_loss: 0.3572 - val_accuracy: 0.8440\n",
      "Epoch 6/25\n",
      "150/150 [==============================] - 6s 37ms/step - loss: 0.2831 - accuracy: 0.8786 - val_loss: 0.3344 - val_accuracy: 0.8507\n",
      "Epoch 7/25\n",
      "150/150 [==============================] - 6s 39ms/step - loss: 0.2474 - accuracy: 0.8970 - val_loss: 0.3253 - val_accuracy: 0.8507\n",
      "Epoch 8/25\n",
      "150/150 [==============================] - 7s 45ms/step - loss: 0.2167 - accuracy: 0.9121 - val_loss: 0.3145 - val_accuracy: 0.8593\n",
      "Epoch 9/25\n",
      "150/150 [==============================] - 6s 38ms/step - loss: 0.1918 - accuracy: 0.9261 - val_loss: 0.3192 - val_accuracy: 0.8565\n",
      "Epoch 10/25\n",
      "150/150 [==============================] - 6s 37ms/step - loss: 0.1688 - accuracy: 0.9372 - val_loss: 0.3159 - val_accuracy: 0.8724\n",
      "Epoch 11/25\n",
      "150/150 [==============================] - 6s 36ms/step - loss: 0.1484 - accuracy: 0.9464 - val_loss: 0.3294 - val_accuracy: 0.8762\n",
      "Epoch 12/25\n",
      "150/150 [==============================] - 6s 37ms/step - loss: 0.1307 - accuracy: 0.9545 - val_loss: 0.3354 - val_accuracy: 0.8757\n",
      "Epoch 13/25\n",
      "150/150 [==============================] - 6s 37ms/step - loss: 0.1147 - accuracy: 0.9614 - val_loss: 0.3340 - val_accuracy: 0.8702\n",
      "Epoch 14/25\n",
      "150/150 [==============================] - 6s 37ms/step - loss: 0.1001 - accuracy: 0.9683 - val_loss: 0.3463 - val_accuracy: 0.8701\n",
      "Epoch 15/25\n",
      "150/150 [==============================] - 6s 37ms/step - loss: 0.0880 - accuracy: 0.9737 - val_loss: 0.3605 - val_accuracy: 0.8708\n",
      "Epoch 16/25\n",
      "150/150 [==============================] - 6s 38ms/step - loss: 0.0762 - accuracy: 0.9783 - val_loss: 0.3762 - val_accuracy: 0.8691\n",
      "Epoch 17/25\n",
      "150/150 [==============================] - 5s 35ms/step - loss: 0.0655 - accuracy: 0.9829 - val_loss: 0.3974 - val_accuracy: 0.8687\n",
      "Epoch 18/25\n",
      "150/150 [==============================] - 6s 39ms/step - loss: 0.0563 - accuracy: 0.9864 - val_loss: 0.4124 - val_accuracy: 0.8670\n",
      "Epoch 19/25\n",
      "150/150 [==============================] - 6s 39ms/step - loss: 0.0482 - accuracy: 0.9888 - val_loss: 0.4339 - val_accuracy: 0.8643\n",
      "Epoch 20/25\n",
      "150/150 [==============================] - 6s 38ms/step - loss: 0.0411 - accuracy: 0.9919 - val_loss: 0.4662 - val_accuracy: 0.8627\n",
      "Epoch 21/25\n",
      "150/150 [==============================] - 6s 37ms/step - loss: 0.0340 - accuracy: 0.9937 - val_loss: 0.4894 - val_accuracy: 0.8632\n",
      "Epoch 22/25\n",
      "150/150 [==============================] - 6s 37ms/step - loss: 0.0277 - accuracy: 0.9954 - val_loss: 0.5192 - val_accuracy: 0.8610\n",
      "Epoch 23/25\n",
      "150/150 [==============================] - 7s 45ms/step - loss: 0.0226 - accuracy: 0.9969 - val_loss: 0.5484 - val_accuracy: 0.8622\n",
      "Epoch 24/25\n",
      "150/150 [==============================] - 6s 39ms/step - loss: 0.0184 - accuracy: 0.9979 - val_loss: 0.5736 - val_accuracy: 0.8600\n",
      "Epoch 25/25\n",
      "150/150 [==============================] - 7s 47ms/step - loss: 0.0149 - accuracy: 0.9984 - val_loss: 0.6001 - val_accuracy: 0.8598\n"
     ]
    }
   ],
   "source": [
    "history = model.fit(train_data.shuffle(10000).batch(100), epochs=25,\n",
    "                    validation_data = validation_data.batch(100), verbose=1)"
   ]
  },
  {
   "cell_type": "code",
   "execution_count": 55,
   "id": "e57dab75-3b96-4404-ac49-127b86087aaa",
   "metadata": {},
   "outputs": [
    {
     "name": "stdout",
     "output_type": "stream",
     "text": [
      "250/250 - 4s - loss: 0.6562 - accuracy: 0.8426 - 4s/epoch - 15ms/step\n",
      "loss: 0.656\n",
      "accuracy: 0.843\n"
     ]
    }
   ],
   "source": [
    "results = model.evaluate(test_data.batch(100), verbose=2)\n",
    "for name, value in zip(model.metrics_names, results): \n",
    "       print(\"%s: %.3f\" % (name, value))"
   ]
  },
  {
   "cell_type": "code",
   "execution_count": null,
   "id": "d45cdfc3-e981-4719-b37b-f0e2f4aaf835",
   "metadata": {},
   "outputs": [],
   "source": []
  }
 ],
 "metadata": {
  "kernelspec": {
   "display_name": "Python 3.10 (v310)",
   "language": "python",
   "name": "v310"
  },
  "language_info": {
   "codemirror_mode": {
    "name": "ipython",
    "version": 3
   },
   "file_extension": ".py",
   "mimetype": "text/x-python",
   "name": "python",
   "nbconvert_exporter": "python",
   "pygments_lexer": "ipython3",
   "version": "3.10.9"
  }
 },
 "nbformat": 4,
 "nbformat_minor": 5
}
